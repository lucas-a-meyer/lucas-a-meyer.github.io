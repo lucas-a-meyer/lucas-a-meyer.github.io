{
 "cells": [
  {
   "cell_type": "code",
   "execution_count": 2,
   "metadata": {},
   "outputs": [],
   "source": [
    "import os\n",
    "import openai\n",
    "from dotenv import load_dotenv\n"
   ]
  },
  {
   "cell_type": "code",
   "execution_count": 3,
   "metadata": {},
   "outputs": [],
   "source": [
    "load_dotenv()\n",
    "\n",
    "openai.api_type = \"azure\"\n",
    "# openai.api_base = \"https://aiforgoodlab-eu-openai.openai.azure.com/\"\n",
    "openai.api_base = \"https://meyerperin-openai.openai.azure.com/\"\n",
    "openai.api_version = \"2023-03-15-preview\"\n",
    "openai.api_key = os.getenv(\"OPENAI_API_PERSONAL_KEY\")\n"
   ]
  },
  {
   "cell_type": "code",
   "execution_count": 4,
   "metadata": {},
   "outputs": [
    {
     "name": "stdout",
     "output_type": "stream",
     "text": [
      "Title: Networking Lessons from Trees: How Suzanne Simard's Discoveries Can Help You Connect Better\n",
      "\n",
      "I recently came across an inspiring interview with Suzanne Simard, a professor of forest ecology at the University of British Columbia. In this interview, Simard shared her groundbreaking research on the social behavior of trees, which taught me a valuable lesson on networking.\n",
      "\n",
      "According to Simard, trees are not just individual organisms; they are social beings that communicate with each other. They share nutrients and information through a vast network of fungi that connect the roots of different trees. This network, known as the Wood Wide Web, allows trees to exchange resources and help each other grow.\n",
      "\n",
      "But what struck me the most was that trees prefer to help trees that are related to them. They recognize and remember their kin and prioritize their needs over strangers. This is an incredible example of altruism and community, something that we as humans can learn from.\n",
      "\n",
      "Networking is not just about meeting new people; it's also about nurturing existing relationships and helping those in your network. Like trees, we should prioritize those who are close to us and help them succeed. It's not just good karma; it's also good business. When you show kindness and generosity to others, they are more likely to reciprocate and help you when you need it.\n",
      "\n",
      "Simard's research teaches us that connections matter, and building strong relationships is crucial to success. Just like trees need each other to thrive, we need a supportive network to help us grow and reach our goals. So, if even trees can network, why can't we?\n",
      "\n",
      "Let's take a leaf out of Simard's book and start cultivating meaningful relationships with those around us. It's not just good for business; it's good for our souls.\n"
     ]
    }
   ],
   "source": [
    "outline = \"\"\"\n",
    "    1. I recently heard the \"People I mostly admire\" interview twith Suzanne Simard\n",
    "    2. She is a professor of forest ecology at the University of British Columbia\n",
    "    3. She taught me that trees are social beings that communicate with each other\n",
    "    4. They share nutrients using fungi networks\n",
    "    5. They prefer to help trees that are related to them\n",
    "    6. If even trees network, you should too!\n",
    "\"\"\"\n",
    "\n",
    "message_list = [\n",
    "    {\"role\":\"system\",\"content\":\"You are a professional writer that likes writing about Business, Finance and Economics\"},\n",
    "    {\"role\":\"user\",\"content\":\"[Voice and style guide: Use a convincing tone, rhetorical questions, and stories to keep the reader interested. Use similes, metaphors, and other literary tools to make your points easier to understand and remember. [Write in a way that is both educational and fun.]]\"},\n",
    "    {\"role\":\"user\",\"content\":\"Write like a graduate level english major\"},\n",
    "    {\"role\":\"user\",\"content\":\"Expand the following outline into a LinkedIn post, don't forget to add a title\"},\n",
    "    {\"role\":\"user\",\"content\": outline},\n",
    "    {\"role\":\"assistant\",\"content\":\"\"},\n",
    "]\n",
    "\n",
    "response = openai.ChatCompletion.create(\n",
    "    engine=\"gpt-35-turbo\",\n",
    "    messages = message_list, \n",
    "    temperature = 0.9\n",
    "   )\n",
    "\n",
    "essay = response.choices[0].message.content    \n",
    "print(essay)"
   ]
  },
  {
   "cell_type": "code",
   "execution_count": null,
   "metadata": {},
   "outputs": [],
   "source": []
  }
 ],
 "metadata": {
  "kernelspec": {
   "display_name": ".venv",
   "language": "python",
   "name": "python3"
  },
  "language_info": {
   "codemirror_mode": {
    "name": "ipython",
    "version": 3
   },
   "file_extension": ".py",
   "mimetype": "text/x-python",
   "name": "python",
   "nbconvert_exporter": "python",
   "pygments_lexer": "ipython3",
   "version": "3.10.7"
  },
  "orig_nbformat": 4
 },
 "nbformat": 4,
 "nbformat_minor": 2
}
