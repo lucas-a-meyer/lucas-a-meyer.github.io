{
 "cells": [
  {
   "cell_type": "code",
   "execution_count": 1,
   "metadata": {},
   "outputs": [],
   "source": [
    "import os\n",
    "import openai\n",
    "from dotenv import load_dotenv\n"
   ]
  },
  {
   "cell_type": "code",
   "execution_count": 2,
   "metadata": {},
   "outputs": [],
   "source": [
    "load_dotenv()\n",
    "\n",
    "openai.api_type = \"azure\"\n",
    "# openai.api_base = \"https://aiforgoodlab-eu-openai.openai.azure.com/\"\n",
    "openai.api_base = \"https://meyerperin-openai.openai.azure.com/\"\n",
    "openai.api_version = \"2023-03-15-preview\"\n",
    "openai.api_key = os.getenv(\"OPENAI_API_PERSONAL_KEY\")\n"
   ]
  },
  {
   "cell_type": "code",
   "execution_count": 3,
   "metadata": {},
   "outputs": [
    {
     "name": "stdout",
     "output_type": "stream",
     "text": [
      "Zotero vs Mendeley: A Comprehensive Comparison\n",
      "\n",
      "When it comes to managing research citations and bibliographies, two popular tools are often compared: Zotero and Mendeley. While both software programs are similar in many ways, Zotero offers certain advantages that make it a better choice for scholars and researchers.\n",
      "\n",
      "First, Zotero offers a seamless integration with Microsoft Word, Google Docs, and OpenOffice Writer. This feature allows users to insert citations and create bibliographies directly from the document they are writing. With Mendeley, citation insertion requires exporting and importing files, which can be cumbersome and time-consuming.\n",
      "\n",
      "Second, Zotero offers unlimited storage for references and attachments, while Mendeley’s free version allows only 2GB of storage. This limitation can be problematic for researchers who work with large amounts of data and documents. Zotero’s storage capacity ensures that users can keep all their research materials in one place and access them easily.\n",
      "\n",
      "Third, Zotero offers a more user-friendly interface, making it easier for users to manage and organize their research. The interface is customizable, allowing users to tailor the software to their specific needs. Mendeley’s interface is less customizable and can be confusing for some users.\n",
      "\n",
      "Fourth, Zotero’s open-source nature allows for greater flexibility and customization. Users can create their own plugins and add-ons or modify existing ones to fit their needs. Mendeley’s closed-source nature limits users’ ability to customize the software.\n",
      "\n",
      "Finally, Zotero’s community-driven development model allows for continuous improvement and innovation. The developers are responsive to user feedback and suggestions, making Zotero a constantly evolving and improving product. Mendeley’s development model is corporate-driven, with less emphasis on community feedback and involvement.\n",
      "\n",
      "In conclusion, while Mendeley is a useful tool for managing research, Zotero offers several advantages that make it a better choice for scholars and researchers. Its seamless integration with word processors, unlimited storage, customizable interface, open-source nature, and community-driven development model make it a more versatile and user-friendly option.\n"
     ]
    }
   ],
   "source": [
    "\n",
    "message_list = [\n",
    "    {\"role\":\"system\",\"content\":\"You are a professional writer that likes writing about Business, Finance and Economics\"},\n",
    "    {\"role\":\"user\",\"content\":\"[Voice and style guide: Use a convincing tone, rhetorical questions, and stories to keep the reader interested. Use similes, metaphors, and other literary tools to make your points easier to understand and remember. [Write in a way that is both educational and fun.]]\"},\n",
    "    {\"role\":\"user\",\"content\":\"Write an graduate-level English major essay about how Zotero is better than Mendeley\"},\n",
    "]\n",
    "\n",
    "response = openai.ChatCompletion.create(\n",
    "    engine=\"gpt-35-turbo\",\n",
    "    messages = message_list, \n",
    "    temperature = 0.9\n",
    "   )\n",
    "\n",
    "essay = response.choices[0].message.content    \n",
    "print(essay)"
   ]
  },
  {
   "cell_type": "code",
   "execution_count": 4,
   "metadata": {},
   "outputs": [
    {
     "name": "stdout",
     "output_type": "stream",
     "text": [
      "Comparing and contrasting software programs that are frequently used by scholars and researchers for citation management and bibliographies, Zotero and Mendeley stand out. While Mendeley is a useful tool, Zotero offers several advantages that make it the preferred choice in academic circles.\n",
      "\n",
      "One significant advantage of Zotero is its seamless integration with Microsoft Word, Google Docs, and OpenOffice Writer. This exceptional feature enables users to insert citations and create bibliographies directly from their documents. Unlike Mendeley, users do not need to waste time exporting and importing files, making the workflow more efficient.\n",
      "\n",
      "The issue of storage is also worth noting. Zotero’s unlimited storage for references and attachments is a definite plus, whereas Mendeley’s free version allows only 2GB of storage. This limitation can affect researchers who work with vast amounts of data and documents as Zotero’s capacity ensures all the research materials can be kept in one place and accessed easily.\n",
      "\n",
      "Zotero’s interface is another feature that makes it stand out. It is highly customizable, allowing users to tailor the software to their specific needs, while Mendeley’s interface is less customizable and may not be as user-friendly for some. Zotero’s open-source nature also allows for greater flexibility and customization, giving users the freedom to create their own plugins and add-ons or modify existing ones, unlike Mendeley’s closed-source nature, which limits users’ ability to customize the software.\n",
      "\n",
      "Finally, the community-driven development model of Zotero, which allows for continuous improvement and innovation, is another key differentiating factor. The developers are highly responsive to user feedback and suggestions, making Zotero a constantly evolving and improving product. On the other hand, Mendeley’s development model is corporate-driven, with less emphasis on community feedback and involvement.\n",
      "\n",
      "Overall, while both software programs have their advantages, Zotero is the superior choice for scholars and researchers due to its seamless integration with word processors, unlimited storage, customizable interface, open-source nature, and community-driven development model.\n"
     ]
    }
   ],
   "source": [
    "essay = essay.replace(\"In conclusion\", \"\")\n",
    "essay = essay.replace(\"In summary\", \"\")\n",
    "\n",
    "message_list = [\n",
    "    {\"role\":\"system\",\"content\":\"You are a professional editor that likes metaphors and similes\"},\n",
    "    {\"role\":\"user\",\"content\":\"Edit the article below, making it more professional and interesting. Avoid using the same words too many times. Avoid starting paragraphs with the same words.\"},\n",
    "    {\"role\":\"user\",\"content\":\"Don't talk about yourself\"},\n",
    "    {\"role\":\"user\",\"content\":\"Write in the style of a graduate-level English major\"},\n",
    "    {\"role\":\"user\",\"content\":\"Article:\"},\n",
    "    {\"role\":\"user\",\"content\":f\"{essay}\"},\n",
    "]\n",
    "\n",
    "response = openai.ChatCompletion.create(\n",
    "    engine=\"gpt-35-turbo\",\n",
    "    messages = message_list, \n",
    "    temperature = 0.9\n",
    "   )\n",
    "\n",
    "edited_essay = response.choices[0].message.content    \n",
    "print(edited_essay)"
   ]
  },
  {
   "cell_type": "code",
   "execution_count": 5,
   "metadata": {},
   "outputs": [
    {
     "name": "stdout",
     "output_type": "stream",
     "text": [
      "As academics, we all know how important it is to manage our references and bibliographies effectively. Two software programs that are frequently used for citation management and bibliography creation are Zotero and Mendeley, but which one is better? After careful consideration, it’s clear that Zotero has several advantages over Mendeley.\n",
      "\n",
      "The integration of Zotero with Microsoft Word, Google Docs, and OpenOffice Writer is an exceptional feature, offering users the ability to insert citations and create bibliographies directly from their documents. Mendeley, on the other hand, requires users to export and import files, which can be a waste of time and lead to inefficient workflows.\n",
      "\n",
      "Another advantage of Zotero is its unlimited storage for references and attachments. This feature ensures that researchers who work with vast amounts of data can keep all their materials in one place and access them easily. Mendeley’s free version, however, only allows 2GB of storage, which can be limiting for scholars working on large research projects.\n",
      "\n",
      "Zotero’s customizable interface is also an advantage, allowing users to tailor the software to their specific needs. This is in contrast to Mendeley, which has a less customizable interface that may not be as user-friendly for some. Additionally, Zotero’s open-source nature allows for greater flexibility and customization, giving users the freedom to create their own plugins and add-ons or modify existing ones.\n",
      "\n",
      "Lastly, the community-driven development model of Zotero is a key differentiating factor. The developers are highly responsive to user feedback and suggestions, making Zotero a constantly evolving and improving product. Mendeley, on the other hand, has a corporate-driven development model, with less emphasis on community involvement.\n",
      "\n",
      "Overall, while Mendeley is a useful tool, Zotero is the superior choice for scholars and researchers. Its seamless integration with word processors, unlimited storage, customizable interface, open-source nature, and community-driven development model make it the clear winner. So, if you're looking for a reliable and efficient citation management and bibliography creation tool, look no further than Zotero.\n"
     ]
    }
   ],
   "source": [
    "edited_essay = edited_essay.replace(\"In conclusion\", \"\")\n",
    "edited_essay = edited_essay.replace(\"In summary\", \"\")\n",
    "\n",
    "message_list = [\n",
    "    {\"role\":\"system\",\"content\":\"You are a professional writer that likes posting on LinkedIn\"},\n",
    "    {\"role\":\"user\",\"content\":\"Edit the article below, making it appropriate for a LinkedIn post.\"},\n",
    "    {\"role\":\"user\",\"content\":\"Don't talk about yourself\"},\n",
    "#     {\"role\":\"user\",\"content\":\"Keep the existing examples, but add one paragraph about how the Peltzman Effect may apply to people outsourcing work to AI\"},\n",
    "    {\"role\":\"user\",\"content\":\"The final post should have about 5 paragraphs.\"},\n",
    "    {\"role\":\"user\",\"content\":\"Write in the style of a graduate-level English major.\"},\n",
    "    {\"role\":\"user\",\"content\":\"Article:\"},\n",
    "    {\"role\":\"user\",\"content\":f\"{edited_essay}\"},\n",
    "]\n",
    "\n",
    "response = openai.ChatCompletion.create(\n",
    "    engine=\"gpt-35-turbo\",\n",
    "    messages = message_list, \n",
    "    temperature = 0.9\n",
    "   )\n",
    "\n",
    "linkedin_essay = response.choices[0].message.content    \n",
    "print(linkedin_essay)"
   ]
  },
  {
   "cell_type": "code",
   "execution_count": 7,
   "metadata": {},
   "outputs": [
    {
     "name": "stdout",
     "output_type": "stream",
     "text": [
      "Why Zotero is the Clear Winner for Citation Management and Bibliography Creation\n"
     ]
    }
   ],
   "source": [
    "message_list = [\n",
    "    {\"role\":\"system\",\"content\":\"You are a professional writer that likes posting on LinkedIn\"},\n",
    "    {\"role\":\"user\",\"content\":\"What is a good short title for the article below?\"},\n",
    "    {\"role\":\"user\",\"content\":\"Article:\"},\n",
    "    {\"role\":\"user\",\"content\":f\"{linkedin_essay}\"},\n",
    "]\n",
    "\n",
    "response = openai.ChatCompletion.create(\n",
    "    engine=\"gpt-35-turbo\",\n",
    "    messages = message_list, \n",
    "    temperature = 0.9\n",
    "   )\n",
    "\n",
    "article_title = response.choices[0].message.content    \n",
    "print(article_title)"
   ]
  },
  {
   "cell_type": "code",
   "execution_count": null,
   "metadata": {},
   "outputs": [],
   "source": []
  }
 ],
 "metadata": {
  "kernelspec": {
   "display_name": ".venv",
   "language": "python",
   "name": "python3"
  },
  "language_info": {
   "codemirror_mode": {
    "name": "ipython",
    "version": 3
   },
   "file_extension": ".py",
   "mimetype": "text/x-python",
   "name": "python",
   "nbconvert_exporter": "python",
   "pygments_lexer": "ipython3",
   "version": "3.10.7"
  },
  "orig_nbformat": 4
 },
 "nbformat": 4,
 "nbformat_minor": 2
}
