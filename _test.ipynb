{
 "cells": [
  {
   "cell_type": "code",
   "execution_count": 1,
   "metadata": {},
   "outputs": [],
   "source": [
    "import datetime"
   ]
  },
  {
   "cell_type": "code",
   "execution_count": 3,
   "metadata": {},
   "outputs": [
    {
     "data": {
      "text/plain": [
       "'2022-07-08T05:37:15.1124910Z'"
      ]
     },
     "execution_count": 3,
     "metadata": {},
     "output_type": "execute_result"
    }
   ],
   "source": [
    "def convert_to_utc(local_time: datetime.datetime) -> datetime: \n",
    "    ts = datetime.datetime.timestamp(local_time)\n",
    "    return datetime.datetime.utcfromtimestamp(ts)\n",
    "\n",
    "def cosmos_date_format(dt: datetime.datetime) -> str:\n",
    "    return str(dt.isoformat()) + \"0Z\" \n",
    "\n",
    "cosmos_date_format(convert_to_utc(datetime.datetime.now()))"
   ]
  },
  {
   "cell_type": "code",
   "execution_count": null,
   "metadata": {},
   "outputs": [],
   "source": []
  }
 ],
 "metadata": {
  "kernelspec": {
   "display_name": "Python 3.8.10 ('.venv': venv)",
   "language": "python",
   "name": "python3"
  },
  "language_info": {
   "codemirror_mode": {
    "name": "ipython",
    "version": 3
   },
   "file_extension": ".py",
   "mimetype": "text/x-python",
   "name": "python",
   "nbconvert_exporter": "python",
   "pygments_lexer": "ipython3",
   "version": "3.8.10"
  },
  "orig_nbformat": 4,
  "vscode": {
   "interpreter": {
    "hash": "5deb7bf3c151862fedd6f2d6f1e5d65d3578b04f527bb8fa4a4e9040f9bee0f3"
   }
  }
 },
 "nbformat": 4,
 "nbformat_minor": 2
}
