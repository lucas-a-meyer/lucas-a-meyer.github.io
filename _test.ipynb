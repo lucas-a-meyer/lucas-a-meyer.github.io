{
 "cells": [
  {
   "cell_type": "code",
   "execution_count": 10,
   "metadata": {},
   "outputs": [],
   "source": [
    "import datetime\n",
    "from dateutil import tz"
   ]
  },
  {
   "cell_type": "code",
   "execution_count": 15,
   "metadata": {},
   "outputs": [],
   "source": [
    "def convert_cosmos_utc_to_local(cosmos_utc_time: str) -> datetime:\n",
    "    NYC = tz.gettz(\"US/Pacific\")\n",
    "    input_time = cosmos_utc_time[:-2]\n",
    "    dtUTC = datetime.datetime.strptime(input_time, \"%Y-%m-%dT%H-%M-%S.%f\")\n",
    "    dtZone = dtUTC.replace(tzinfo = datetime.timezone.utc)\n",
    "    dtLocal = dtZone.astimezone(NYC)\n",
    "    return dtLocal"
   ]
  },
  {
   "cell_type": "code",
   "execution_count": 16,
   "metadata": {},
   "outputs": [
    {
     "name": "stdout",
     "output_type": "stream",
     "text": [
      "2022-07-15 06:02:00.000132-07:00\n"
     ]
    }
   ],
   "source": [
    "test_time = \"2022-07-15T13-02-00.0001325Z\"\n",
    "\n",
    "print(convert_cosmos_utc_to_local(test_time))"
   ]
  },
  {
   "cell_type": "code",
   "execution_count": 2,
   "metadata": {},
   "outputs": [],
   "source": [
    "import requests\n",
    "import json\n",
    "from pprint import pprint\n"
   ]
  },
  {
   "cell_type": "code",
   "execution_count": 48,
   "metadata": {},
   "outputs": [],
   "source": [
    "\n",
    "headers = {\"Content-Type\": \"application/json; charset=utf-8\"}\n",
    "headers[\"Host\"]=\"www.bing.com\"\n",
    "\n",
    "indexnow_url = \"https://www.bing.com/indexnow\"\n",
    "with open (\"docs/sitemap.json\") as fj:\n",
    "    indexnow_json = json.load(fj)\n",
    "\n",
    "response = requests.post(indexnow_url, json=indexnow_json, headers=headers)\n"
   ]
  },
  {
   "cell_type": "code",
   "execution_count": 49,
   "metadata": {},
   "outputs": [
    {
     "name": "stdout",
     "output_type": "stream",
     "text": [
      "{'Content-Type': 'application/json; charset=utf-8', 'Host': 'www.bing.com'}\n"
     ]
    }
   ],
   "source": [
    "print(headers)"
   ]
  },
  {
   "cell_type": "code",
   "execution_count": 50,
   "metadata": {},
   "outputs": [
    {
     "name": "stdout",
     "output_type": "stream",
     "text": [
      "<Response [200]>\n"
     ]
    }
   ],
   "source": [
    "\n",
    "pprint.pprint(response)"
   ]
  },
  {
   "cell_type": "code",
   "execution_count": 42,
   "metadata": {},
   "outputs": [
    {
     "name": "stdout",
     "output_type": "stream",
     "text": [
      "{'host': 'www.meyerperin.com',\n",
      " 'key': 'b2ef8541f4a041a0a2b32fff426e64d8',\n",
      " 'keyLocation': 'https://www.meyerperin.com/b2ef8541f4a041a0a2b32fff426e64d8.txt',\n",
      " 'urlList': ['https://www.meyerperin.com/posts/2021-08-17-the-neurodivergent-manager.html',\n",
      "             'https://www.meyerperin.com/posts/2017-09-11-hurricane-irma.html',\n",
      "             'https://www.meyerperin.com/posts/2021-10-10-do-you-know-how-smart-i-am-in-portuguese.html',\n",
      "             'https://www.meyerperin.com/posts/2018-06-25-centralized-vs-distributed-data-teams.html']}\n"
     ]
    }
   ],
   "source": [
    "pprint(indexnow_json)"
   ]
  },
  {
   "cell_type": "code",
   "execution_count": 6,
   "metadata": {},
   "outputs": [],
   "source": [
    "key=\"328819eef07241cbb24a5558c07c186f\"\n",
    "r = requests.get(f\"https://www.bing.com/indexnow?url=https://www.meyerperin.com/posts/2021-10-10-do-you-know-how-smart-i-am-in-portuguese.html&key={key}\")"
   ]
  },
  {
   "cell_type": "code",
   "execution_count": 7,
   "metadata": {},
   "outputs": [
    {
     "name": "stdout",
     "output_type": "stream",
     "text": [
      "<Response [202]>\n"
     ]
    }
   ],
   "source": [
    "pprint.pprint(r)"
   ]
  },
  {
   "cell_type": "code",
   "execution_count": 54,
   "metadata": {},
   "outputs": [
    {
     "name": "stdout",
     "output_type": "stream",
     "text": [
      "b'<html><meta http-equiv=\"content-type\" content=\"text/html; charset=UTF-8\">\\n<head><title>Google Webmaster Tools\\n-\\nSitemap Notification Received</title>\\n<meta name=\"robots\" content=\"noindex, noodp\">\\n<script src=\"https://ssl.google-analytics.com/urchin.js\" type=\"text/javascript\">\\n    </script>\\n<script type=\"text/javascript\">\\n      _uacct=\"UA-18009-2\";\\n      _utcp=\"/webmasters/\";\\n      _uanchor=1;\\n      urchinTracker();\\n    </script></head>\\n<body><h2>Sitemap Notification Received</h2>\\n<br>\\nYour Sitemap has been successfully added to our list of Sitemaps to crawl. If this is the first time you are notifying Google about this Sitemap, please add it via  <a href=\"http://www.google.com/webmasters/tools/\">http://www.google.com/webmasters/tools/</a>  so you can track its status. Please note that we do not add all submitted URLs to our index, and we cannot make any predictions or guarantees about when or if they will appear.</body></html>'\n"
     ]
    }
   ],
   "source": [
    "url = \"https://www.meyerperin.com/sitemap.xml\"\n",
    "r = requests.get(f\"https://www.google.com/ping?sitemap={url}\")\n",
    "print(r.content)"
   ]
  },
  {
   "cell_type": "code",
   "execution_count": null,
   "metadata": {},
   "outputs": [],
   "source": []
  }
 ],
 "metadata": {
  "kernelspec": {
   "display_name": "Python 3.8.10 ('.venv': venv)",
   "language": "python",
   "name": "python3"
  },
  "language_info": {
   "codemirror_mode": {
    "name": "ipython",
    "version": 3
   },
   "file_extension": ".py",
   "mimetype": "text/x-python",
   "name": "python",
   "nbconvert_exporter": "python",
   "pygments_lexer": "ipython3",
   "version": "3.10.5"
  },
  "orig_nbformat": 4,
  "vscode": {
   "interpreter": {
    "hash": "5deb7bf3c151862fedd6f2d6f1e5d65d3578b04f527bb8fa4a4e9040f9bee0f3"
   }
  }
 },
 "nbformat": 4,
 "nbformat_minor": 2
}
