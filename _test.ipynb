{
 "cells": [
  {
   "cell_type": "code",
   "execution_count": 10,
   "metadata": {},
   "outputs": [],
   "source": [
    "import datetime\n",
    "from dateutil import tz"
   ]
  },
  {
   "cell_type": "code",
   "execution_count": 15,
   "metadata": {},
   "outputs": [],
   "source": [
    "def convert_cosmos_utc_to_local(cosmos_utc_time: str) -> datetime:\n",
    "    NYC = tz.gettz(\"US/Pacific\")\n",
    "    input_time = cosmos_utc_time[:-2]\n",
    "    dtUTC = datetime.datetime.strptime(input_time, \"%Y-%m-%dT%H-%M-%S.%f\")\n",
    "    dtZone = dtUTC.replace(tzinfo = datetime.timezone.utc)\n",
    "    dtLocal = dtZone.astimezone(NYC)\n",
    "    return dtLocal"
   ]
  },
  {
   "cell_type": "code",
   "execution_count": 16,
   "metadata": {},
   "outputs": [
    {
     "name": "stdout",
     "output_type": "stream",
     "text": [
      "2022-07-15 06:02:00.000132-07:00\n"
     ]
    }
   ],
   "source": [
    "test_time = \"2022-07-15T13-02-00.0001325Z\"\n",
    "\n",
    "print(convert_cosmos_utc_to_local(test_time))"
   ]
  },
  {
   "cell_type": "code",
   "execution_count": null,
   "metadata": {},
   "outputs": [],
   "source": []
  }
 ],
 "metadata": {
  "kernelspec": {
   "display_name": "Python 3.8.10 ('.venv': venv)",
   "language": "python",
   "name": "python3"
  },
  "language_info": {
   "codemirror_mode": {
    "name": "ipython",
    "version": 3
   },
   "file_extension": ".py",
   "mimetype": "text/x-python",
   "name": "python",
   "nbconvert_exporter": "python",
   "pygments_lexer": "ipython3",
   "version": "3.10.5"
  },
  "orig_nbformat": 4,
  "vscode": {
   "interpreter": {
    "hash": "5deb7bf3c151862fedd6f2d6f1e5d65d3578b04f527bb8fa4a4e9040f9bee0f3"
   }
  }
 },
 "nbformat": 4,
 "nbformat_minor": 2
}
