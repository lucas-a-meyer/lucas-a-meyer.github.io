{
 "cells": [
  {
   "cell_type": "code",
   "execution_count": 1,
   "metadata": {},
   "outputs": [],
   "source": [
    "import yaml\n",
    "import os"
   ]
  },
  {
   "cell_type": "code",
   "execution_count": 2,
   "metadata": {},
   "outputs": [],
   "source": [
    "import os\n",
    "from dotenv import load_dotenv\n",
    "\n",
    "from azure.core.credentials import AzureKeyCredential\n",
    "from azure.search.documents.indexes import SearchIndexClient \n",
    "from azure.search.documents import SearchClient\n",
    "from azure.search.documents.indexes.models import (\n",
    "    ComplexField,\n",
    "    CorsOptions,\n",
    "    SearchIndex,\n",
    "    ScoringProfile,\n",
    "    SearchFieldDataType,\n",
    "    SimpleField,\n",
    "    SearchableField\n",
    ")\n"
   ]
  },
  {
   "cell_type": "code",
   "execution_count": 3,
   "metadata": {},
   "outputs": [
    {
     "name": "stdout",
     "output_type": "stream",
     "text": [
      "https://dsna-wu-cognitivesearch.search.windows.net/\n"
     ]
    }
   ],
   "source": [
    "load_dotenv()\n",
    "\n",
    "index_name = \"lucasmeyer-test\"\n",
    "service_name = \"dsna-wu-cognitivesearch\"\n",
    "\n",
    "# Create an SDK client\n",
    "endpoint = f\"https://{service_name}.search.windows.net/\"\n",
    "\n",
    "print(endpoint)\n",
    "\n",
    "admin_key = os.getenv(\"AZURE_SEMANTIC_SEARCH_KEY\")\n",
    "\n",
    "admin_client = SearchIndexClient(endpoint=endpoint,\n",
    "                      index_name=index_name,\n",
    "                      credential=AzureKeyCredential(admin_key))\n",
    "\n",
    "search_client = SearchClient(endpoint=endpoint,\n",
    "                      index_name=index_name,\n",
    "                      credential=AzureKeyCredential(admin_key))"
   ]
  },
  {
   "cell_type": "code",
   "execution_count": 19,
   "metadata": {},
   "outputs": [
    {
     "name": "stdout",
     "output_type": "stream",
     "text": [
      "Index lucasmeyer-test Deleted\n"
     ]
    }
   ],
   "source": [
    "try:\n",
    "    result = admin_client.delete_index(index_name)\n",
    "    print ('Index', index_name, 'Deleted')\n",
    "except Exception as ex:\n",
    "    print (ex)"
   ]
  },
  {
   "cell_type": "code",
   "execution_count": 24,
   "metadata": {},
   "outputs": [],
   "source": [
    "# Specify the index schema\n",
    "name = index_name\n",
    "fields = [\n",
    "        SimpleField(name=\"chunk_id\", type=SearchFieldDataType.String, key=True),\n",
    "        SimpleField(name=\"filename\", type=SearchFieldDataType.String, sortable=True),\n",
    "        SearchableField(name=\"title\", type=SearchFieldDataType.String, sortable=True),\n",
    "        SearchableField(name=\"content\", type=SearchFieldDataType.String, analyzer_name=\"en.lucene\"),\n",
    "        SimpleField(name=\"date\", type=SearchFieldDataType.DateTimeOffset, facetable=True, filterable=True, sortable=True)\n",
    "    ]\n",
    "cors_options = CorsOptions(allowed_origins=[\"*\"], max_age_in_seconds=60)\n",
    "scoring_profiles = []\n"
   ]
  },
  {
   "cell_type": "code",
   "execution_count": 25,
   "metadata": {},
   "outputs": [
    {
     "name": "stdout",
     "output_type": "stream",
     "text": [
      "Index lucasmeyer-test created\n"
     ]
    }
   ],
   "source": [
    "index = SearchIndex(\n",
    "    name=name,\n",
    "    fields=fields,\n",
    "    scoring_profiles=scoring_profiles,\n",
    "    semantic_settings = {\n",
    "      \"configurations\": [\n",
    "        {\n",
    "          \"name\": \"lucasmeyer-test-semantic-config\",\n",
    "          \"prioritizedFields\": {\n",
    "            \"titleField\": {\n",
    "                  \"fieldName\": \"title\"\n",
    "                },\n",
    "            \"prioritizedContentFields\": [\n",
    "              {\n",
    "                \"fieldName\": \"content\"\n",
    "              }\n",
    "            ],\n",
    "            \"prioritizedKeywordsFields\": [\n",
    "            ]\n",
    "          }\n",
    "        }\n",
    "      ]\n",
    "    },\n",
    "    cors_options=cors_options)\n",
    "\n",
    "try:\n",
    "    result = admin_client.create_index(index)\n",
    "    print ('Index', result.name, 'created')\n",
    "except Exception as ex:\n",
    "    print (ex)"
   ]
  },
  {
   "cell_type": "code",
   "execution_count": 28,
   "metadata": {},
   "outputs": [],
   "source": [
    "# for each file in the directory posts\n",
    "\n",
    "# Create a list of dicts\n",
    "# each dict has a title, date, and content\n",
    "\n",
    "search_items = []\n",
    "\n",
    "for filename in os.listdir(\"posts\"):\n",
    "    # if the file is not .qmd, skip it\n",
    "    if not filename.endswith(\".qmd\"):\n",
    "        continue\n",
    "\n",
    "    # open the file\n",
    "    with open(\"posts/\" + filename, \"r\", encoding='utf-8') as f:\n",
    "    \n",
    "        # read the file\n",
    "        content = f.read()\n",
    "\n",
    "        # separate into YAML and content\n",
    "        parts = content.split(\"---\")\n",
    "        yaml_content = parts[1]\n",
    "        post_content = parts[2]\n",
    "\n",
    "        # from the YAML, get the title and the date\n",
    "        yaml_dict = yaml.load(yaml_content, Loader=yaml.FullLoader)\n",
    "        title = yaml_dict[\"title\"]\n",
    "        date = yaml_dict[\"date\"]\n",
    "\n",
    "        # Break the post_content into chunks of about one paragraph\n",
    "        # (separated by two newlines)\n",
    "        chunks = post_content.split(\"\\n\\n\")\n",
    "\n",
    "        i = 0\n",
    "        for c in chunks:\n",
    "            i += 1\n",
    "            # if c is empty, skip it\n",
    "            if c == \"\":\n",
    "                continue\n",
    "\n",
    "            # create a dict with title, date, and content\n",
    "            search_item = {}\n",
    "            search_item[\"@search.action\"] = \"upload\"\n",
    "            search_item[\"chunk_id\"] = filename[:-4] + \"-\" + str(i)\n",
    "            search_item[\"filename\"] = filename[:-4]\n",
    "            search_item[\"title\"] = title\n",
    "\n",
    "            # save the date as a string in YYYY-MM-DD format\n",
    "            search_item[\"date\"] = f'{date.strftime(\"%Y-%m-%d\")}T00:00:00Z'\n",
    "            search_item[\"content\"] = c.replace(\"\\n\", \" \")\n",
    "\n",
    "\n",
    "            # add the dict to the list\n",
    "            search_items.append(search_item)\n",
    "\n",
    "# print(search_items)"
   ]
  },
  {
   "cell_type": "code",
   "execution_count": 29,
   "metadata": {},
   "outputs": [
    {
     "name": "stdout",
     "output_type": "stream",
     "text": [
      "Upload of new document succeeded: True\n"
     ]
    }
   ],
   "source": [
    "try:\n",
    "    result = search_client.upload_documents(documents=search_items)\n",
    "    print(f\"Upload of new document succeeded: {result[0].succeeded}\")\n",
    "except Exception as ex:\n",
    "    print (ex.message)"
   ]
  },
  {
   "cell_type": "code",
   "execution_count": 42,
   "metadata": {},
   "outputs": [
    {
     "name": "stdout",
     "output_type": "stream",
     "text": [
      "Total Documents Matching Query: 460\n",
      "{'date': '2017-09-11T00:00:00Z', 'filename': '2017-09-11-hurricane-irma', 'content': 'Hurricane Irma happened when I was out on a business trip, and my family was in Parkland, FL. Forecasts went from \"maybe it will hit you\" to \"if you stay you\\'ll surely die\" to \"I think it\\'s not going to hit you anymore\" to \"Phew, it will miss\" in four days.', 'chunk_id': '2017-09-11-hurricane-irma-3', 'title': 'Hurricane Irma', '@search.score': 8.536456, '@search.reranker_score': 0.616607666015625, '@search.highlights': None, '@search.captions': None}\n",
      "{'date': '2017-09-11T00:00:00Z', 'filename': '2017-09-11-hurricane-irma', 'content': 'The uncertainty seemed higher for places that were north of Tampa: it was hard to tell whether the hurricane would turn either way in 3 days. On the other hand, the forecasts are better in close proximity to the hurricane, and it seemed pretty certain that the hurricane would miss the Parkland/Boca Raton area. So we made the somewhat gutsy call that my wife would come back to Parkland with the kids. ', 'chunk_id': '2017-09-11-hurricane-irma-6', 'title': 'Hurricane Irma', '@search.score': 10.81296, '@search.reranker_score': 0.42124176025390625, '@search.highlights': None, '@search.captions': None}\n",
      "{'date': '2017-09-11T00:00:00Z', 'filename': '2017-09-11-hurricane-irma', 'content': 'As days went by, the forecasts moved further and further West. On Saturday 2 AM, the forecast was that the hurricane would hit Tampa as a Category 4, so staying there was too risky. And then we had to decide between moving to the Florida panhandle, moving to Jacksonville and incredibly, going back to Parkland, near Fort Lauderdale.', 'chunk_id': '2017-09-11-hurricane-irma-5', 'title': 'Hurricane Irma', '@search.score': 7.696231, '@search.reranker_score': 0.39333343505859375, '@search.highlights': None, '@search.captions': None}\n",
      "{'date': '2017-09-11T00:00:00Z', 'filename': '2017-09-11-hurricane-irma', 'content': ' Florida has nice weather most of the time, but also has extreme weather occasionally.', 'chunk_id': '2017-09-11-hurricane-irma-2', 'title': 'Hurricane Irma', '@search.score': 9.030985, '@search.reranker_score': 0.3819732666015625, '@search.highlights': None, '@search.captions': None}\n",
      "{'date': '2017-09-11T00:00:00Z', 'filename': '2017-09-11-hurricane-irma', 'content': 'We did a lot of preparation using conditional probabilities. In our assessment, it would be very unlikely for the hurricane to hit both the East and West coast.  So we decided to move the family from Parkland, FL to Tampa (back then, the hurricane was forecasted to hit the East coast), but to book hotels in both Pensacola (Florida panhandle) and Jacksonville, FL while we waited for new forecasts.', 'chunk_id': '2017-09-11-hurricane-irma-4', 'title': 'Hurricane Irma', '@search.score': 9.410254, '@search.reranker_score': 0.3050537109375, '@search.highlights': None, '@search.captions': None}\n",
      "{'date': '2022-07-26T00:00:00Z', 'filename': '2022-07-25-concepts', 'content': 'This is the blog page where I keep my collection of concepts. I plan to keep adding to it. ', 'chunk_id': '2022-07-25-concepts-9', 'title': 'Shortcuts and the smell of rain', '@search.score': 7.1841993, '@search.reranker_score': 0.19123458862304688, '@search.highlights': None, '@search.captions': None}\n",
      "{'date': '2022-06-10T00:00:00Z', 'filename': '2022-06-10-jekyll-to-quarto', 'content': '### Quarto has everything, and more ', 'chunk_id': '2022-06-10-jekyll-to-quarto-6', 'title': 'Converting my blog from Jekyll to Quarto', '@search.score': 7.1422567, '@search.reranker_score': 0.15193557739257812, '@search.highlights': None, '@search.captions': None}\n",
      "{'date': '2023-04-11T00:00:00Z', 'filename': '2023-04-11-discover-the-best-spy-novelist-of-our-time-with-mick-herron-s-slow-horses', 'content': \"Are you a fan of spy novels and TV shows? If so, you need to check out Mick Herron's Slow Horses series, which has been hailed as a masterpiece by critics and fans alike. In fact, Herron is now being heralded as the best spy novel writer of our generation.\", 'chunk_id': '2023-04-11-discover-the-best-spy-novelist-of-our-time-with-mick-herron-s-slow-horses-2', 'title': \"Discover the Best Spy Novelist of Our Time with Mick Herron's Slow Horses\", '@search.score': 6.8382745, '@search.reranker_score': 0.14725112915039062, '@search.highlights': None, '@search.captions': None}\n",
      "{'date': '2022-07-26T00:00:00Z', 'filename': '2022-07-25-concepts', 'content': \"- Being able to get an answer faster by stating something wrong instead of asking a good question? [Cunningham's Law](/posts/2021-11-04-cunninghams-law.qmd).  - The way inexperienced people ask help with some step of their incorrect solution instead of asking for help solving their problem? [XY Problem](/posts/2021-07-22-the-xy-problem.qmd). - Advice to experienced people that want to repeat previous solutions before understanding the problem at hand? [Chesterton's Fence](/posts/2022-04-02-chestertons-fence.qmd) - That feeling that you are the only one that didn't understand everything, when in fact nobody did? [Pluralistic Ignorance](/posts/2022-07-04-that-is-a-good-question.qmd)\", 'chunk_id': '2022-07-25-concepts-8', 'title': 'Shortcuts and the smell of rain', '@search.score': 8.571028, '@search.reranker_score': 0.14665603637695312, '@search.highlights': None, '@search.captions': None}\n",
      "{'date': '2022-06-10T00:00:00Z', 'filename': '2022-06-10-jekyll-to-quarto', 'content': \"When I was initially switching between Jekyll and Hugo, one of the most annoying things was Jekyll preferred posts as files, while blogdown preferred posts as directories. RStudio even provides a function `bundle_site()` to convert files to directories. Now, when I'm converting to Quarto, I thought I needed to write such a function in Python.\", 'chunk_id': '2022-06-10-jekyll-to-quarto-8', 'title': 'Converting my blog from Jekyll to Quarto', '@search.score': 5.295391, '@search.reranker_score': 0.13818740844726562, '@search.highlights': None, '@search.captions': None}\n"
     ]
    }
   ],
   "source": [
    "results = search_client.search(search_text=\"which hurricane has the author of this blog post experienced?\", \n",
    "                               include_total_count=True, \n",
    "                               query_type=\"semantic\", \n",
    "                               query_language=\"en\", \n",
    "                               semantic_configuration_name=\"lucasmeyer-test-semantic-config\",\n",
    "                               top=10)\n",
    "\n",
    "print ('Total Documents Matching Query:', results.get_count())\n",
    "for result in results:\n",
    "    if result[\"@search.reranker_score\"]:\n",
    "        print(result)"
   ]
  },
  {
   "cell_type": "code",
   "execution_count": null,
   "metadata": {},
   "outputs": [],
   "source": []
  }
 ],
 "metadata": {
  "kernelspec": {
   "display_name": ".venv",
   "language": "python",
   "name": "python3"
  },
  "language_info": {
   "codemirror_mode": {
    "name": "ipython",
    "version": 3
   },
   "file_extension": ".py",
   "mimetype": "text/x-python",
   "name": "python",
   "nbconvert_exporter": "python",
   "pygments_lexer": "ipython3",
   "version": "3.10.7"
  },
  "orig_nbformat": 4
 },
 "nbformat": 4,
 "nbformat_minor": 2
}
