{
  "cells": [
    {
      "cell_type": "raw",
      "metadata": {},
      "source": [
        "---\n",
        "author: Lucas A. Meyer\n",
        "date: '2022-06-10'\n",
        "freeze: true\n",
        "image: /images/quarto.png\n",
        "linkedin-posted: '2022-06-10'\n",
        "title: Converting my blog from Jekyll to Quarto\n",
        "twitter-posted: '2022-06-10'\n",
        "---"
      ],
      "id": "652d88fb"
    },
    {
      "cell_type": "markdown",
      "metadata": {},
      "source": [
        "I thought moving from Jekyll to Quarto was going to be hard. It was not.\n",
        "\n",
        "### What I wanted in a blog platform\n",
        "For a long time, I had an unfulfilled wish list for a blog platform:\n",
        "\n",
        "- Can write posts in Markdown\n",
        "- Easy to deploy to Github\n",
        "- Can script in Python\n",
        "\n",
        "\n",
        "A large number of platforms fulfills the first two items, but I struggled to find one that fulfilled the last item. I finally found Pelican, but I found it too clunky and started to worry that it was not going to be maintained for long. Therefore, I oscillated between Jekyll and Hugo (using blogdown) for a long time. I liked blogdown a lot, but whenever I'm switching a lot between R and Python, my brain gets really unhappy.\n",
        "\n",
        "### Quarto has everything, and more \n",
        "\n",
        "Recently, I found [Quarto](https://quarto.org) that ticks all my boxes and solves a lot of other problems. My feeling when using Quarto must be similar to the feeling of Python programmers when they started using Jupyter (because they never used RStudio) or similar to what I felt when, as an analyst, started using RStudio. Things just work.\n",
        "\n",
        "When I was initially switching between Jekyll and Hugo, one of the most annoying things was Jekyll preferred posts as files, while blogdown preferred posts as directories. RStudio even provides a function `bundle_site()` to convert files to directories. Now, when I'm converting to Quarto, I thought I needed to write such a function in Python.\n",
        "\n",
        "Again, it turns out that \"things just work\". Quarto accepts both directores and files as posts and rendered everything correctly. So I'm going to draw the \"Quarto Spiral\" instead, just to celebrate!\n",
        "\n",
        "### Example from Hello, Quarto!\n"
      ],
      "id": "27b07cdd"
    },
    {
      "cell_type": "code",
      "metadata": {},
      "source": [
        "#| label: fig-polar\n",
        "#| fig-cap: A line plot on a polar axis\n",
        "\n",
        "import numpy as np\n",
        "import matplotlib.pyplot as plt\n",
        "\n",
        "r = np.arange(0, 2, 0.01)\n",
        "theta = 2 * np.pi * r\n",
        "fig, ax = plt.subplots(\n",
        "  subplot_kw = {'projection': 'polar'} \n",
        ")\n",
        "ax.plot(theta, r)\n",
        "ax.set_rticks([0.5, 1, 1.5, 2])\n",
        "ax.grid(True)\n",
        "plt.show()"
      ],
      "id": "fig-polar",
      "execution_count": null,
      "outputs": []
    }
  ],
  "metadata": {
    "kernelspec": {
      "name": "python3",
      "language": "python",
      "display_name": "Python 3 (ipykernel)"
    }
  },
  "nbformat": 4,
  "nbformat_minor": 5
}